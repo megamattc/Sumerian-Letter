{
 "cells": [
  {
   "cell_type": "code",
   "execution_count": 1,
   "metadata": {},
   "outputs": [],
   "source": [
    "import pandas as pd\n",
    "import pickle"
   ]
  },
  {
   "cell_type": "code",
   "execution_count": 2,
   "metadata": {},
   "outputs": [],
   "source": [
    "with open(\"ogsl.p\", \"rb\") as p:\n",
    "    o = pd.read_pickle(p)\n",
    "d = dict(zip(o[\"value\"], o[\"utf8\"]))"
   ]
  },
  {
   "cell_type": "code",
   "execution_count": 3,
   "metadata": {},
   "outputs": [],
   "source": [
    "def cun(text): \n",
    "    \"\"\"transform transliterated input into cuneiform. Use unicode subscript numbers and separate all signs with hyphens; separate words with blanks\n",
    "    Examples: 'ma-an-gi₄'; 'd-en-lil₂ nibru-ki'.\n",
    "    Transliteration style (sugal₇ vs. sukkal; dug₄ vs. du₁₁; gen vs. ŋen; etc.) and capitalization are unimportant.\n",
    "    \"\"\"\n",
    "    cun_line = []\n",
    "    words = text.lower().split()\n",
    "    for word in words: \n",
    "        signs = word.lower().split('-')\n",
    "        seq = [d[s] if s in d else s for s in signs]\n",
    "        seq = ''.join(seq)\n",
    "        cun_line.append(seq)\n",
    "    line = ' '.join(cun_line)\n",
    "    return(line)"
   ]
  },
  {
   "cell_type": "code",
   "execution_count": 4,
   "metadata": {},
   "outputs": [
    {
     "data": {
      "text/plain": [
       "'𒇽𒂗𒈾 𒋃 𒀭𒊩𒌆𒈥𒆠𒊏 𒅇𒈾𒅗 𒍝𒊏 𒁲 𒃶𒅅 𒌿 𒇻𒌑𒉿𒅗 𒁾𒍪 𒉌𒉌𒅆𒊒 𒅗𒍪 𒊮𒂷 𒉌𒄭 𒊮𒍪 𒅆𒌨 𒆷𒁀𒈪𒉭 𒌓𒌓 𒅇 𒇽𒍇𒅇 𒅗𒍝 𒋗 𒅎𒈪𒅔𒁄𒇷𒌍𒋫 𒋗𒂷 𒁀𒋾 𒊮 𒅗𒂵𒍝𒅗 𒃻 𒉡𒅗𒂵𒍪 𒈠𒂂 𒅴𒂠 𒍪𒉈 𒈪𒉭𒀀𒀭 𒁾𒂷 𒅆 𒁇𒊏𒁀 je₂₆ 𒅴𒂠 𒉡𒍪𒌦 𒂷 𒅎𒈨 𒉡𒌝𒈪𒊬𒊑𒂗 𒆥𒈬 𒃻𒈬 𒆥𒍪 𒃻𒍪𒋫 𒉌𒉽𒌍 𒅗𒈬 𒍪𒉈 𒃶𒈪𒉭 𒆥𒁉 𒈪𒉭𒂵 𒈨𒂗𒁲𒂗 𒅗 𒅔𒂵𒀊𒁄𒇷𒂗𒁲𒂗 𒁾𒁉 𒃶𒊏𒁺𒌋'"
      ]
     },
     "execution_count": 4,
     "metadata": {},
     "output_type": "execute_result"
    }
   ],
   "source": [
    "A = \"lu₂-en-na sanga d-nin-mar-ki-ra u₃-na-du₁₁ za-ra silim he₂-ŋal₂ erim₃ lu-u₂-wa-ka dub-zu i₃-ni-pad₃ inim-zu ša₃-ŋa₂ i₃-du₁₀\"\n",
    "B = \"ša₃-zu hul la-ba-gig ud-ud u₃ lu₂-ulu₃-u₃ inim-za šu im-mi-in-bal-le-eš-ta šu-ŋe₂₆ ba-ti\"\n",
    "C = \"ša₃ du₁₁-ga-za-ka niŋ₂ nu-du₁₁-ga-zu ma-dugud eme-gir₁₅ zu-de₃ gig-am₃ dub-ŋa₂ igi bar-ra-ba\" \n",
    "D = \"je₂₆ eme-gir₁₅ nu-zu-un ŋe₂₆ im-me nu-um-mi-sar-re-en kiŋ₂-ŋu₁₀ niŋ₂-ŋu₁₀ kiŋ₂-zu niŋ₂-zu-ta i₃-kur₂-eš\"\n",
    "E = \"inim-ŋu₁₀ zu-de₃ he₂-gig kiŋ₂-bi gig-ga me-en-de-en inim in-ga-ab-bal-le-en-de-en dub-bi he₂-ra-du-u\"\n",
    "text = \" \".join([A, B, C, D, E])\n",
    "text\n",
    "cun(text)"
   ]
  },
  {
   "cell_type": "code",
   "execution_count": null,
   "metadata": {},
   "outputs": [],
   "source": []
  }
 ],
 "metadata": {
  "kernelspec": {
   "display_name": "Python 3",
   "language": "python",
   "name": "python3"
  },
  "language_info": {
   "codemirror_mode": {
    "name": "ipython",
    "version": 3
   },
   "file_extension": ".py",
   "mimetype": "text/x-python",
   "name": "python",
   "nbconvert_exporter": "python",
   "pygments_lexer": "ipython3",
   "version": "3.7.0"
  }
 },
 "nbformat": 4,
 "nbformat_minor": 2
}
